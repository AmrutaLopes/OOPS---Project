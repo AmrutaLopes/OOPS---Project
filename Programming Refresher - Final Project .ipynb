{
 "cells": [
  {
   "cell_type": "raw",
   "metadata": {
    "raw_mimetype": "text/markdown"
   },
   "source": [
    "Programming – Course-End Project (Banking Domain)"
   ]
  },
  {
   "cell_type": "code",
   "execution_count": 140,
   "metadata": {},
   "outputs": [],
   "source": [
    "#Creating a Bank Class with attributes\n",
    "class Bank:\n",
    "    def __init__(self, IFSC_Code,bankname, branchname, loc):\n",
    "        self.IFSC_Code = IFSC_Code\n",
    "        self.bankname = bankname \n",
    "        self.branchname = branchname\n",
    "        self.loc = loc"
   ]
  },
  {
   "cell_type": "code",
   "execution_count": 141,
   "metadata": {},
   "outputs": [],
   "source": [
    "#Creating a Customer Class with attributes\n",
    "class Customer:\n",
    "    def __init__(self, CustomerID, custname, address, contactdetails):\n",
    "        self.CustomerID = CustomerID\n",
    "        self.custname = custname\n",
    "        self.address = address\n",
    "        self.contactdetails = contactdetails"
   ]
  },
  {
   "cell_type": "code",
   "execution_count": 142,
   "metadata": {},
   "outputs": [],
   "source": [
    "#Creating an Account class that inherits from Bank class with attributes\n",
    "class Account(Bank):\n",
    "    def __init__(self, AccountID, Cust_obj, balance, IFSC_Code,bankname, branchname, loc):\n",
    "        self.AccountID = AccountID\n",
    "        self.Cust_obj = Cust_obj\n",
    "        self.balance = balance\n",
    "        super().__init__(IFSC_Code, bankname, branchname, loc)\n",
    "        \n",
    "    def getAccountInfo(self):\n",
    "        print(\"Account Information:\")\n",
    "        print(f\"Customer Name: {self.Cust_obj.custname}\")\n",
    "        print(f\"Account ID: {self.AccountID}\")\n",
    "        print(f\"Customer ID: {self.Cust_obj.CustomerID}\")\n",
    "        print(f\"Account Balance: {self.balance}\")\n",
    "        \n",
    "    def deposit(self,amount):\n",
    "        print(f\"Account Balance before Deposit {self.balance}\")\n",
    "        self.balance = self.balance + amount\n",
    "        print(f\"Account Balance after deposit has been updated to {self.balance}\")\n",
    "    \n",
    "    def withdraw(self,amount):\n",
    "        print(f\"Total Balance Avaialable before withdrawal {self.balance}\")\n",
    "        if amount <= 0:\n",
    "            print(\"Can't withdraw 0 or negative amount\")\n",
    "        elif self.balance <= amount:\n",
    "            print(\"Insufficient balance, withdraw amount is greater than avialable balance\".format(self.balance))\n",
    "        elif self.balance > amount:\n",
    "            self.balance -= amount\n",
    "            print(f\"Congratulations, you have withdrwan {amount}, current balance is {self.balance}\")\n",
    "            \n",
    "    def getBalance(self):\n",
    "        print(f\"Account present balance: {self.balance}\")\n",
    "        "
   ]
  },
  {
   "cell_type": "markdown",
   "metadata": {},
   "source": [
    "Testing the above code"
   ]
  },
  {
   "cell_type": "code",
   "execution_count": 143,
   "metadata": {},
   "outputs": [],
   "source": [
    "#Instantiating an object of a class Customer\n",
    "cust1 = Customer(1119, 'Sohpia Lopes', 'Linking Road Bandra', 9912459610)"
   ]
  },
  {
   "cell_type": "code",
   "execution_count": 144,
   "metadata": {},
   "outputs": [],
   "source": [
    "#Instantiating an object of a class Account\n",
    "acc1 = Account(26345, cust1, 0, 'CHAS0INBX01','JP Morgan Chase Bank','Santacruz West','WestRegion')"
   ]
  },
  {
   "cell_type": "code",
   "execution_count": 145,
   "metadata": {},
   "outputs": [
    {
     "name": "stdout",
     "output_type": "stream",
     "text": [
      "Account Information:\n",
      "Customer Name: Sohpia Lopes\n",
      "Account ID: 26345\n",
      "Customer ID: 1119\n",
      "Account Balance: 0\n"
     ]
    }
   ],
   "source": [
    "#Accessing methods 1.getAccountInfo\n",
    "acc1.getAccountInfo()"
   ]
  },
  {
   "cell_type": "code",
   "execution_count": 146,
   "metadata": {},
   "outputs": [
    {
     "name": "stdout",
     "output_type": "stream",
     "text": [
      "Account Balance before Deposit 0\n",
      "Account Balance after deposit has been updated to 2000\n"
     ]
    }
   ],
   "source": [
    "#Accessing methods 2.deposit\n",
    "acc1.deposit(2000)"
   ]
  },
  {
   "cell_type": "code",
   "execution_count": 147,
   "metadata": {},
   "outputs": [
    {
     "name": "stdout",
     "output_type": "stream",
     "text": [
      "Total Balance Avaialable before withdrawal 2000\n",
      "Congratulations, you have withdrwan 500, current balance is 1500\n"
     ]
    }
   ],
   "source": [
    "#Accessing methods 3.withdraw\n",
    "acc1.withdraw(500)"
   ]
  },
  {
   "cell_type": "code",
   "execution_count": 148,
   "metadata": {},
   "outputs": [
    {
     "name": "stdout",
     "output_type": "stream",
     "text": [
      "Account present balance: 1500\n"
     ]
    }
   ],
   "source": [
    "acc1.getBalance()"
   ]
  },
  {
   "cell_type": "code",
   "execution_count": 149,
   "metadata": {},
   "outputs": [],
   "source": [
    "#Creating a SavingAccount class that inherits from Account class\n",
    "class SavingsAccount(Account):\n",
    "    \n",
    "    def __init__(self, AccountID, Cust_obj, balance, IFSC_Code,bankname, branchname, loc):\n",
    "        self.SminBalance = 500\n",
    "        #self.balance = balance\n",
    "        super().__init__(AccountID, Cust_obj, balance, IFSC_Code,bankname, branchname, loc)\n",
    "        \n",
    "    def getSavingsAccountInfo(self):\n",
    "        print(\"Savings Account Information\")\n",
    "        print(\"Customer Name: \",self.Cust_obj.custname)\n",
    "        print(\"Account Number: \", self.AccountID)\n",
    "        print(\"Customer ID: \", self.Cust_obj.CustomerID)\n",
    "        print(\"Available Balance: \",self.balance)\n",
    "        print(\"Minimum Balance: \", self.SMinBalance)\n",
    "    \n",
    "    def deposit(self, amount):\n",
    "        print(\"Account balance before deposit: \",self.balance)\n",
    "        self.balance += amount\n",
    "        print(\"Account balance after deposit has been updated to\", self.balance)\n",
    "        \n",
    "    def withdraw(self, amount):\n",
    "        print(\"Total balance available before withdrawal\", self.balance)\n",
    "        if amount <= 0:\n",
    "            print(\"Can't witdraw 0 or negative amount\")\n",
    "        elif self.balance < amount:\n",
    "            print(\"Withdraw amount is greater than available balance\",self.balance)\n",
    "        elif self.balance - amount <= self.SminBalance:\n",
    "            print(\"Not eligible for withdrawal,below the requirement of miminum balance\", self.SminBalance)\n",
    "        elif self.balance - amount > self.SminBalance:\n",
    "            self.balance -= amount\n",
    "            print(f\"Successful withdrawal of {amount} available balance is {self.balance}\")\n",
    "            \n",
    "    def getBalance(self):\n",
    "        print(f\"Account present balance: {self.balance}\")\n",
    "        "
   ]
  },
  {
   "cell_type": "markdown",
   "metadata": {},
   "source": [
    "Test the above code"
   ]
  },
  {
   "cell_type": "code",
   "execution_count": 150,
   "metadata": {},
   "outputs": [],
   "source": [
    "cust2 = Customer(1220, 'Vishwa Mohan', 'Linking Road Bandra', 7812903410)"
   ]
  },
  {
   "cell_type": "code",
   "execution_count": 151,
   "metadata": {},
   "outputs": [],
   "source": [
    "sav1 = SavingsAccount(27349, cust2, 10000,'CHAS0INBX01','JP Morgan Chase Bank','Santacruz West','WestRegion')"
   ]
  },
  {
   "cell_type": "code",
   "execution_count": 152,
   "metadata": {},
   "outputs": [
    {
     "name": "stdout",
     "output_type": "stream",
     "text": [
      "Account Information:\n",
      "Customer Name: Vishwa Mohan\n",
      "Account ID: 27349\n",
      "Customer ID: 1220\n",
      "Account Balance: 10000\n"
     ]
    }
   ],
   "source": [
    "sav1.getAccountInfo()"
   ]
  },
  {
   "cell_type": "code",
   "execution_count": 153,
   "metadata": {},
   "outputs": [
    {
     "name": "stdout",
     "output_type": "stream",
     "text": [
      "Account balance before deposit:  10000\n",
      "Account balance after deposit has been updated to 12000\n"
     ]
    }
   ],
   "source": [
    "sav1.deposit(2000)"
   ]
  },
  {
   "cell_type": "code",
   "execution_count": 154,
   "metadata": {},
   "outputs": [
    {
     "name": "stdout",
     "output_type": "stream",
     "text": [
      "Total balance available before withdrawal 12000\n",
      "Successful withdrawal of 500 available balance is 11500\n"
     ]
    }
   ],
   "source": [
    "sav1.withdraw(500)"
   ]
  },
  {
   "cell_type": "code",
   "execution_count": 155,
   "metadata": {},
   "outputs": [
    {
     "name": "stdout",
     "output_type": "stream",
     "text": [
      "Total balance available before withdrawal 11500\n",
      "Successful withdrawal of 6000 available balance is 5500\n"
     ]
    }
   ],
   "source": [
    "sav1.withdraw(6000)"
   ]
  },
  {
   "cell_type": "code",
   "execution_count": 156,
   "metadata": {},
   "outputs": [
    {
     "name": "stdout",
     "output_type": "stream",
     "text": [
      "Total balance available before withdrawal 5500\n",
      "Successful withdrawal of 2000 available balance is 3500\n"
     ]
    }
   ],
   "source": [
    "sav1.withdraw(2000)"
   ]
  },
  {
   "cell_type": "code",
   "execution_count": 157,
   "metadata": {},
   "outputs": [
    {
     "name": "stdout",
     "output_type": "stream",
     "text": [
      "Total balance available before withdrawal 3500\n",
      "Not eligible for withdrawal,below the requirement of miminum balance 500\n"
     ]
    }
   ],
   "source": [
    "sav1.withdraw(3200)"
   ]
  },
  {
   "cell_type": "code",
   "execution_count": 158,
   "metadata": {},
   "outputs": [
    {
     "name": "stdout",
     "output_type": "stream",
     "text": [
      "Total balance available before withdrawal 3500\n",
      "Successful withdrawal of 1000 available balance is 2500\n"
     ]
    }
   ],
   "source": [
    "sav1.withdraw(1000)"
   ]
  },
  {
   "cell_type": "code",
   "execution_count": null,
   "metadata": {},
   "outputs": [],
   "source": []
  }
 ],
 "metadata": {
  "kernelspec": {
   "display_name": "Python 3",
   "language": "python",
   "name": "python3"
  },
  "language_info": {
   "codemirror_mode": {
    "name": "ipython",
    "version": 3
   },
   "file_extension": ".py",
   "mimetype": "text/x-python",
   "name": "python",
   "nbconvert_exporter": "python",
   "pygments_lexer": "ipython3",
   "version": "3.8.5"
  }
 },
 "nbformat": 4,
 "nbformat_minor": 4
}
